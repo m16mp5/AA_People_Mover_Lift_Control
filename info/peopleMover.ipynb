{
 "cells": [
  {
   "cell_type": "code",
   "execution_count": 12,
   "id": "a52eb31e",
   "metadata": {},
   "outputs": [
    {
     "name": "stdout",
     "output_type": "stream",
     "text": [
      "Socket connected to 192.168.0.101 on port 50000\n"
     ]
    }
   ],
   "source": [
    "import socket\n",
    "import sys\n",
    "import struct\n",
    "import time\n",
    "import binascii\n",
    " \n",
    "host = '192.168.0.101'\n",
    "port = 50000\n",
    " \n",
    "s = socket.socket(socket.AF_INET,socket.SOCK_STREAM)\n",
    "\n",
    "cl6 = binascii.unhexlify(\"CCDDA10100200020E2C4\")      # Close relay 6\n",
    "op6 = binascii.unhexlify(\"CCDDA10100000020C284\")      # Open relay 6\n",
    "\n",
    "cl7 = binascii.unhexlify(\"CCDDA101004000402244\")      # Close relay 7\n",
    "op7 = binascii.unhexlify(\"CCDDA10100000040E2C4\")      # Open relay 7\n",
    "\n",
    "cl2 = binascii.unhexlify(\"CCDDA10100000002A448\")      # Close relay 2\n",
    "op2 = binascii.unhexlify(\"CCDDA10100020002A64C\")      # Open relay 2\n",
    "\n",
    "cl3 = binascii.unhexlify(\"CCDDA10100000004A64C\")      # Close relay 3\n",
    "op3 = binascii.unhexlify(\"CCDDA10100040004AA54\")      # Open relay 3\n",
    " \n",
    "try:\n",
    "    s.connect((host, port))\n",
    "\n",
    "except socket.gaierror:\n",
    "    print('Hostname could not be resolved Exiting')\n",
    "    sys.exit()\n",
    "    \n",
    "print('Socket connected to ' + host + ' on port ' + str(port))\n",
    " \n",
    "try:\n",
    "    for x in range(10):\n",
    "        s.send(cl7)\n",
    "        time.sleep(1)\n",
    "        s.send(cl6)\n",
    "        time.sleep(1)\n",
    "        s.send(cl3)\n",
    "        time.sleep(1)\n",
    "        s.send(cl2)\n",
    "        time.sleep(1)\n",
    "        s.send(op7)\n",
    "        time.sleep(1)\n",
    "        s.send(op6)\n",
    "        time.sleep(1)\n",
    "        s.send(op3)\n",
    "        time.sleep(1)\n",
    "        s.send(op2)\n",
    "        time.sleep(1)\n",
    "\n",
    "except socket.error:\n",
    "    print('send fail')\n",
    "    sys.exit()"
   ]
  },
  {
   "cell_type": "code",
   "execution_count": null,
   "id": "710e780b",
   "metadata": {},
   "outputs": [],
   "source": []
  }
 ],
 "metadata": {
  "kernelspec": {
   "display_name": "Python 3 (ipykernel)",
   "language": "python",
   "name": "python3"
  },
  "language_info": {
   "codemirror_mode": {
    "name": "ipython",
    "version": 3
   },
   "file_extension": ".py",
   "mimetype": "text/x-python",
   "name": "python",
   "nbconvert_exporter": "python",
   "pygments_lexer": "ipython3",
   "version": "3.9.15"
  }
 },
 "nbformat": 4,
 "nbformat_minor": 5
}
